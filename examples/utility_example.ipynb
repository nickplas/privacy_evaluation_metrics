{
 "cells": [
  {
   "metadata": {},
   "cell_type": "code",
   "source": [
    "import pandas as pd\n",
    "from utility_metrics.metrics import UtilityMetrics\n",
    "from privacy_metrics.preprocessor import Data"
   ],
   "id": "1f701e4854ca17da",
   "outputs": [],
   "execution_count": null
  },
  {
   "metadata": {},
   "cell_type": "code",
   "source": [
    "data_path = \"path/to/data\"\n",
    "adult_names = [\"age\", \"workclass\", \"fnlwgt\", \"education\",\n",
    "               \"education_num\", \"marital_status\", \"occupation\",\n",
    "               \"relationship\", \"race\", \"sex\", \"capital_gain\",\n",
    "               \"capital_loss\", \"hours_per_week\", \"native_country\", \"y\"\n",
    "               ]\n",
    "adult_num = [\"fnlwgt\", \"capital_gain\", \"capital_loss\", \"age\", \"education_num\", \"hours_per_week\"]\n",
    "train = pd.read_csv(data_path + \"training.csv\", usecols =adult_names).sample(frac=1/2, random_state=42)\n",
    "synth = pd.read_csv(data_path + \"release.csv\", usecols =adult_names).sample(n=len(train), random_state=42)\n",
    "control = pd.read_csv(data_path + \"control.csv\", usecols =adult_names).sample(n=len(train), random_state=42)\n",
    "schema = {n: Data.NUMERIC if n in adult_num else Data.CATEGORICAL for n in adult_names}"
   ],
   "id": "3602023fd3e92e28",
   "outputs": [],
   "execution_count": null
  },
  {
   "metadata": {},
   "cell_type": "code",
   "source": "utility_evaluator = UtilityMetrics(train, synth, control, schema)",
   "id": "f09e8e917e510692",
   "outputs": [],
   "execution_count": null
  },
  {
   "metadata": {},
   "cell_type": "code",
   "source": "utility_evaluator.machine_learning_efficacy()",
   "id": "27e7274e8f591f62",
   "outputs": [],
   "execution_count": null
  },
  {
   "metadata": {},
   "cell_type": "code",
   "source": [
    "target = \"y\"\n",
    "aux_cols = [\"age\", \"workclass\", \"marital_status\"]\n",
    "utility_evaluator.ml_utility(target, aux_cols)"
   ],
   "id": "1eb8028975d56c25",
   "outputs": [],
   "execution_count": null
  },
  {
   "metadata": {},
   "cell_type": "code",
   "source": [
    "utility_evaluator = UtilityMetrics(train, synth, control, schema)\n",
    "utility_evaluator.MMD('rbf')"
   ],
   "id": "a00c85e536fa85c4",
   "outputs": [],
   "execution_count": null
  },
  {
   "metadata": {},
   "cell_type": "code",
   "source": "utility_evaluator.ks_test()",
   "id": "ebf6c73a4e06bac7",
   "outputs": [],
   "execution_count": null
  },
  {
   "metadata": {},
   "cell_type": "code",
   "source": [
    "df1 = pd.DataFrame({'a': ['a', 'b', 'a'], 'b': ['e', 'f', 'g'], 'c': ['h', 'h', 'j']})\n",
    "df2 = pd.DataFrame({'a': ['a', 'b', 'b'], 'b': ['e', 'f', 'g'], 'c': ['h', 'j', 'h']})\n",
    "schema = {name: Data.CATEGORICAL for name in df1.columns}\n",
    "utility_evaluator = UtilityMetrics(df1, df2, df1, schema)"
   ],
   "id": "4f8edf08e1a34706",
   "outputs": [],
   "execution_count": null
  },
  {
   "metadata": {},
   "cell_type": "code",
   "source": "utility_evaluator.chi_squared_test()",
   "id": "e9711c503ce427f4",
   "outputs": [],
   "execution_count": null
  }
 ],
 "metadata": {
  "kernelspec": {
   "name": "python3",
   "language": "python",
   "display_name": "Python 3 (ipykernel)"
  }
 },
 "nbformat": 5,
 "nbformat_minor": 9
}
