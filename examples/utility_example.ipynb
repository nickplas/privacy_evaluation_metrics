{
 "cells": [
  {
   "metadata": {
    "ExecuteTime": {
     "end_time": "2025-06-05T18:29:00.252693Z",
     "start_time": "2025-06-05T18:28:59.253726Z"
    }
   },
   "cell_type": "code",
   "source": [
    "import pandas as pd\n",
    "from utility_metrics.metrics import UtilityMetrics"
   ],
   "id": "1f701e4854ca17da",
   "outputs": [],
   "execution_count": 1
  },
  {
   "metadata": {
    "ExecuteTime": {
     "end_time": "2025-06-05T18:29:00.487358Z",
     "start_time": "2025-06-05T18:29:00.428920Z"
    }
   },
   "cell_type": "code",
   "source": [
    "data_path = \"/Users/nicolas/Desktop/Phd/privacy_evaluation_metrics/data/\"\n",
    "adult_names = [\"age\", \"workclass\", \"fnlwgt\", \"education\",\n",
    "               \"education_num\", \"marital_status\", \"occupation\",\n",
    "               \"relationship\", \"race\", \"sex\", \"capital_gain\",\n",
    "               \"capital_loss\", \"hours_per_week\", \"native_country\", \"y\"\n",
    "               ]\n",
    "adult_num = [\"fnlwgt\", \"capital_gain\", \"capital_loss\", \"age\", \"education_num\", \"hours_per_week\"]\n",
    "train = pd.read_csv(data_path + \"training.csv\", usecols =adult_names).sample(frac=1/2, random_state=42)\n",
    "synth = pd.read_csv(data_path + \"release.csv\", usecols =adult_names).sample(n=len(train), random_state=42)\n",
    "control = pd.read_csv(data_path + \"control.csv\", usecols =adult_names).sample(n=len(train), random_state=42)\n",
    "schema = {n: 'numeric' if n in adult_num else 'categorical' for n in adult_names}"
   ],
   "id": "3602023fd3e92e28",
   "outputs": [],
   "execution_count": 2
  },
  {
   "metadata": {
    "ExecuteTime": {
     "end_time": "2025-06-05T18:29:25.180136Z",
     "start_time": "2025-06-05T18:29:25.176665Z"
    }
   },
   "cell_type": "code",
   "source": "utility_evaluator = UtilityMetrics(train, synth, control, schema)",
   "id": "f09e8e917e510692",
   "outputs": [],
   "execution_count": 3
  },
  {
   "metadata": {
    "ExecuteTime": {
     "end_time": "2025-06-05T18:29:32.331871Z",
     "start_time": "2025-06-05T18:29:32.167079Z"
    }
   },
   "cell_type": "code",
   "source": "utility_evaluator.machine_learning_efficacy()",
   "id": "27e7274e8f591f62",
   "outputs": [
    {
     "data": {
      "text/plain": [
       "0.500982800982801"
      ]
     },
     "execution_count": 4,
     "metadata": {},
     "output_type": "execute_result"
    }
   ],
   "execution_count": 4
  }
 ],
 "metadata": {
  "kernelspec": {
   "name": "python3",
   "language": "python",
   "display_name": "Python 3 (ipykernel)"
  }
 },
 "nbformat": 5,
 "nbformat_minor": 9
}
