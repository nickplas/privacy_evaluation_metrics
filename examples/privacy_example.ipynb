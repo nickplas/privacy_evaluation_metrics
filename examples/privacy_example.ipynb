{
 "cells": [
  {
   "metadata": {
    "ExecuteTime": {
     "end_time": "2025-07-18T06:37:28.336535Z",
     "start_time": "2025-07-18T06:37:25.522918Z"
    }
   },
   "cell_type": "code",
   "source": [
    "from privacy_metrics.metrics import PrivacyMetrics\n",
    "from privacy_metrics.preprocessor import Data\n",
    "import pandas as pd"
   ],
   "id": "2640a63691889155",
   "outputs": [],
   "execution_count": 1
  },
  {
   "metadata": {
    "ExecuteTime": {
     "end_time": "2025-07-18T06:37:52.346420Z",
     "start_time": "2025-07-18T06:37:52.283349Z"
    }
   },
   "cell_type": "code",
   "source": [
    "data_path = \"path/to/data\"\n",
    "adult_names = [\"age\", \"workclass\", \"fnlwgt\", \"education\",\n",
    "               \"education_num\", \"marital_status\", \"occupation\",\n",
    "               \"relationship\", \"race\", \"sex\", \"capital_gain\",\n",
    "               \"capital_loss\", \"hours_per_week\", \"native_country\", \"y\"\n",
    "               ]\n",
    "adult_num = [\"fnlwgt\", \"capital_gain\", \"capital_loss\", \"age\", \"education_num\", \"hours_per_week\"]\n",
    "train = pd.read_csv(data_path + \"training.csv\", usecols =adult_names).sample(frac=1/2, random_state=42)\n",
    "synth = pd.read_csv(data_path + \"release.csv\", usecols =adult_names).sample(n=len(train), random_state=42)\n",
    "control = pd.read_csv(data_path + \"control.csv\", usecols =adult_names).sample(n=len(train), random_state=42)\n",
    "schema = {n: Data.NUMERIC if n in adult_num else Data.CATEGORICAL for n in adult_names}"
   ],
   "id": "be94a93c5ef7ab7",
   "outputs": [],
   "execution_count": 3
  },
  {
   "metadata": {
    "ExecuteTime": {
     "end_time": "2025-07-18T06:37:54.615752Z",
     "start_time": "2025-07-18T06:37:54.612827Z"
    }
   },
   "cell_type": "code",
   "source": "privacy_evaluator = PrivacyMetrics(train, synth, control, schema)",
   "id": "87c2549be4658778",
   "outputs": [],
   "execution_count": 4
  },
  {
   "metadata": {},
   "cell_type": "code",
   "source": "privacy_evaluator.identical_match_sharing()",
   "id": "25062b611d6d8e4b",
   "outputs": [],
   "execution_count": null
  },
  {
   "metadata": {},
   "cell_type": "code",
   "source": [
    "# many architectures have not faiss or may have problems with it, set faiss flag to False to use sklearn implementation\n",
    "privacy_evaluator.distance_to_closest_record(faiss=False)"
   ],
   "id": "aa0e7f8449d47532",
   "outputs": [],
   "execution_count": null
  },
  {
   "metadata": {},
   "cell_type": "code",
   "source": "privacy_evaluator.no_box_membership_inference_attack(interval=100, factor=1)",
   "id": "c8dde7fcc177c670",
   "outputs": [],
   "execution_count": null
  },
  {
   "metadata": {
    "ExecuteTime": {
     "end_time": "2025-07-18T06:51:15.372366Z",
     "start_time": "2025-07-18T06:38:01.846503Z"
    }
   },
   "cell_type": "code",
   "source": [
    "target = 'y'\n",
    "privacy_evaluator.machine_learning_inference(target)"
   ],
   "id": "f8a4f27eed24c85e",
   "outputs": [
    {
     "name": "stderr",
     "output_type": "stream",
     "text": [
      "Computing confidence interval: 1000it [13:11,  1.26it/s]\n"
     ]
    },
    {
     "data": {
      "text/plain": [
       "(-0.0038402457757296493, 0.001855144348894333)"
      ]
     },
     "execution_count": 5,
     "metadata": {},
     "output_type": "execute_result"
    }
   ],
   "execution_count": 5
  },
  {
   "metadata": {},
   "cell_type": "code",
   "source": [
    "# reducing the size of the dataset cuz gtcap takes too long\n",
    "privacy_evaluator = PrivacyMetrics(train.sample(n=1000), synth.sample(n=1000), control, schema)"
   ],
   "id": "ae7d40b4ed45a6ab",
   "outputs": [],
   "execution_count": null
  },
  {
   "metadata": {},
   "cell_type": "code",
   "source": [
    "keys = [\"age\", \"workclass\", \"fnlwgt\", \"education\",\n",
    "        \"education_num\", \"marital_status\", \"occupation\",\n",
    "        \"relationship\", \"race\", \"sex\", \"capital_gain\",\n",
    "       \"capital_loss\", \"hours_per_week\", \"native_country\", ]\n",
    "privacy_evaluator.gtcap(keys, target, radius=0.1, numeric_cols=adult_num)"
   ],
   "id": "bb9881e269f8f3e3",
   "outputs": [],
   "execution_count": null
  },
  {
   "metadata": {},
   "cell_type": "code",
   "source": [
    "# Use cuda\n",
    "privacy_evaluator.DOMIAS('cuda')"
   ],
   "id": "661fe19701894002",
   "outputs": [],
   "execution_count": null
  }
 ],
 "metadata": {
  "kernelspec": {
   "name": "python3",
   "language": "python",
   "display_name": "Python 3 (ipykernel)"
  }
 },
 "nbformat": 5,
 "nbformat_minor": 9
}
