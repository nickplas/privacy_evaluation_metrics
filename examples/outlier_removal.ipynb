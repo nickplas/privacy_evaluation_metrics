{
 "cells": [
  {
   "metadata": {},
   "cell_type": "code",
   "outputs": [],
   "execution_count": null,
   "source": [
    "import torch\n",
    "import pandas as pd\n",
    "from synthetizers.outlier_computation import train_model, remove_outliers\n",
    "from privacy_eval.semiparametric.processing_embed import Col"
   ],
   "id": "f5a0d63ce68a918a"
  },
  {
   "metadata": {},
   "cell_type": "code",
   "outputs": [],
   "execution_count": null,
   "source": [
    "col_names = [\"age\", \"workclass\", \"fnlwgt\", \"education\", \"education_num\",\n",
    "             \"marital_status\", \"occupation\", \"relationship\", \"race\",\n",
    "             \"sex\", \"capital_gain\", \"capital_loss\", \"hours_per_week\",\n",
    "             \"native_country\", \"y\"]\n",
    "num_cols = [\"fnlwgt\", \"capital_gain\", \"capital_loss\"]\n",
    "int_cols = [ \"age\", \"education_num\", \"hours_per_week\"]\n",
    "\n",
    "train = pd.read_csv('../data/train.csv', usecols=col_names)\n",
    "control = pd.read_csv('../data/control.csv', usecols=col_names)\n",
    "\n",
    "col_types = {col: Col.NUMERIC if col in num_cols else Col.INTEGER if col in int_cols else Col.CATEGORICAL\n",
    "                 for col in col_names}\n",
    "\n",
    "d_emb = 10\n",
    "out_dim = 10\n",
    "batch_size = 256\n",
    "folder_path = '../data_without_outliers/'\n",
    "device = 'cuda' if torch.cuda.is_available() else 'cpu'\n",
    "\n",
    "est = train_model(train, train, control, col_types, d_emb, out_dim, device)\n",
    "outlier_portion = 0.05\n",
    "df = remove_outliers(est, train, device, outlier_portion)"
   ],
   "id": "472438c74e473d60"
  },
  {
   "metadata": {},
   "cell_type": "code",
   "outputs": [],
   "execution_count": null,
   "source": [
    "# Eventually save it\n",
    "df.to_csv(folder_path + f'adult_p={outlier_portion}.csv')"
   ],
   "id": "3fe6cd93a361b4a8"
  }
 ],
 "metadata": {},
 "nbformat": 5,
 "nbformat_minor": 9
}
